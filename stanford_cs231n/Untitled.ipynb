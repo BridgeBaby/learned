{
 "cells": [
  {
   "cell_type": "code",
   "execution_count": 12,
   "metadata": {},
   "outputs": [],
   "source": [
    "class construction:\n",
    "    \n",
    "    def __init__(self, str1='con', str2='con2'):\n",
    "        self.str1 = str1\n",
    "        self.str2 = str2"
   ]
  },
  {
   "cell_type": "code",
   "execution_count": 13,
   "metadata": {},
   "outputs": [
    {
     "name": "stdout",
     "output_type": "stream",
     "text": [
      "con\n"
     ]
    }
   ],
   "source": [
    "contents = construction()\n",
    "print(contents.str1)"
   ]
  },
  {
   "cell_type": "code",
   "execution_count": 16,
   "metadata": {},
   "outputs": [
    {
     "name": "stdout",
     "output_type": "stream",
     "text": [
      "[2 5 7]\n"
     ]
    }
   ],
   "source": [
    "import numpy as np\n",
    "d = np.array([1,2,3,4,4,3,5,3,6])\n",
    "haa = np.flatnonzero(d == 3)\n",
    "print(haa)"
   ]
  },
  {
   "cell_type": "code",
   "execution_count": 15,
   "metadata": {},
   "outputs": [
    {
     "name": "stdout",
     "output_type": "stream",
     "text": [
      "<function <lambda> at 0x000001AA1053C510>\n"
     ]
    }
   ],
   "source": [
    "import numpy as np\n",
    "x = np.ones([4, 4]) * 1\n",
    "y = np.ones([4, 4]) * 2\n",
    "z = np.ones([4, 4]) * 3\n",
    "\n",
    "def add_forward():\n",
    "    cache = (x, y, z)\n",
    "    out = np.ones(4, 4) * 4\n",
    "    return out, cache\n",
    "def check(af, xx, yy):\n",
    "    ans = af\n",
    "    return ans\n",
    "\n",
    "test = check(lambda x: add_forward(x, y, z)[0], x, y)\n",
    "print(test)"
   ]
  },
  {
   "cell_type": "raw",
   "metadata": {},
   "source": [
    "\n",
    "print(x)"
   ]
  },
  {
   "cell_type": "code",
   "execution_count": 6,
   "metadata": {},
   "outputs": [
    {
     "name": "stdout",
     "output_type": "stream",
     "text": [
      "[[ 6.  7.  8.  9. 10.]\n",
      " [ 6.  7.  8.  9. 10.]]\n"
     ]
    }
   ],
   "source": [
    "import numpy as np\n",
    "import random\n",
    "x = np.linspace(1, 20, num=20).reshape(4,5)\n",
    "x = x[[1, 1], :]\n",
    "print(x)"
   ]
  },
  {
   "cell_type": "code",
   "execution_count": 40,
   "metadata": {},
   "outputs": [
    {
     "name": "stdout",
     "output_type": "stream",
     "text": [
      "[[0 1 2]]\n"
     ]
    }
   ],
   "source": [
    "import numpy as np\n",
    "x = np.array([[0, 1, 2], [2, 3 ,4]])\n",
    "print(x[0:1,0:3])"
   ]
  },
  {
   "cell_type": "code",
   "execution_count": null,
   "metadata": {},
   "outputs": [],
   "source": []
  }
 ],
 "metadata": {
  "kernelspec": {
   "display_name": "Python 3",
   "language": "python",
   "name": "python3"
  },
  "language_info": {
   "codemirror_mode": {
    "name": "ipython",
    "version": 3
   },
   "file_extension": ".py",
   "mimetype": "text/x-python",
   "name": "python",
   "nbconvert_exporter": "python",
   "pygments_lexer": "ipython3",
   "version": "3.7.3"
  }
 },
 "nbformat": 4,
 "nbformat_minor": 2
}
